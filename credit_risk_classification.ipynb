{
 "cells": [
  {
   "cell_type": "code",
   "execution_count": 1,
   "metadata": {},
   "outputs": [],
   "source": [
    "import pandas as pd\n",
    "import numpy as np\n",
    "import pandas as pd\n",
    "from pathlib import Path\n",
    "from sklearn.metrics import balanced_accuracy_score, confusion_matrix, classification_report"
   ]
  },
  {
   "cell_type": "markdown",
   "metadata": {},
   "source": [
    "---"
   ]
  },
  {
   "cell_type": "markdown",
   "metadata": {},
   "source": [
    "## Split the Data into Training and Testing Sets"
   ]
  },
  {
   "cell_type": "markdown",
   "metadata": {},
   "source": [
    "### Step 1: Read the `lending_data.csv` data from the `Resources` folder into a Pandas DataFrame."
   ]
  },
  {
   "cell_type": "code",
   "execution_count": 2,
   "metadata": {},
   "outputs": [
    {
     "data": {
      "text/html": [
       "<div>\n",
       "<style scoped>\n",
       "    .dataframe tbody tr th:only-of-type {\n",
       "        vertical-align: middle;\n",
       "    }\n",
       "\n",
       "    .dataframe tbody tr th {\n",
       "        vertical-align: top;\n",
       "    }\n",
       "\n",
       "    .dataframe thead th {\n",
       "        text-align: right;\n",
       "    }\n",
       "</style>\n",
       "<table border=\"1\" class=\"dataframe\">\n",
       "  <thead>\n",
       "    <tr style=\"text-align: right;\">\n",
       "      <th></th>\n",
       "      <th>loan_size</th>\n",
       "      <th>interest_rate</th>\n",
       "      <th>borrower_income</th>\n",
       "      <th>debt_to_income</th>\n",
       "      <th>num_of_accounts</th>\n",
       "      <th>derogatory_marks</th>\n",
       "      <th>total_debt</th>\n",
       "      <th>loan_status</th>\n",
       "    </tr>\n",
       "  </thead>\n",
       "  <tbody>\n",
       "    <tr>\n",
       "      <th>0</th>\n",
       "      <td>10700.0</td>\n",
       "      <td>7.672</td>\n",
       "      <td>52800</td>\n",
       "      <td>0.431818</td>\n",
       "      <td>5</td>\n",
       "      <td>1</td>\n",
       "      <td>22800</td>\n",
       "      <td>0</td>\n",
       "    </tr>\n",
       "    <tr>\n",
       "      <th>1</th>\n",
       "      <td>8400.0</td>\n",
       "      <td>6.692</td>\n",
       "      <td>43600</td>\n",
       "      <td>0.311927</td>\n",
       "      <td>3</td>\n",
       "      <td>0</td>\n",
       "      <td>13600</td>\n",
       "      <td>0</td>\n",
       "    </tr>\n",
       "    <tr>\n",
       "      <th>2</th>\n",
       "      <td>9000.0</td>\n",
       "      <td>6.963</td>\n",
       "      <td>46100</td>\n",
       "      <td>0.349241</td>\n",
       "      <td>3</td>\n",
       "      <td>0</td>\n",
       "      <td>16100</td>\n",
       "      <td>0</td>\n",
       "    </tr>\n",
       "    <tr>\n",
       "      <th>3</th>\n",
       "      <td>10700.0</td>\n",
       "      <td>7.664</td>\n",
       "      <td>52700</td>\n",
       "      <td>0.430740</td>\n",
       "      <td>5</td>\n",
       "      <td>1</td>\n",
       "      <td>22700</td>\n",
       "      <td>0</td>\n",
       "    </tr>\n",
       "    <tr>\n",
       "      <th>4</th>\n",
       "      <td>10800.0</td>\n",
       "      <td>7.698</td>\n",
       "      <td>53000</td>\n",
       "      <td>0.433962</td>\n",
       "      <td>5</td>\n",
       "      <td>1</td>\n",
       "      <td>23000</td>\n",
       "      <td>0</td>\n",
       "    </tr>\n",
       "  </tbody>\n",
       "</table>\n",
       "</div>"
      ],
      "text/plain": [
       "   loan_size  interest_rate  borrower_income  debt_to_income  num_of_accounts  \\\n",
       "0    10700.0          7.672            52800        0.431818                5   \n",
       "1     8400.0          6.692            43600        0.311927                3   \n",
       "2     9000.0          6.963            46100        0.349241                3   \n",
       "3    10700.0          7.664            52700        0.430740                5   \n",
       "4    10800.0          7.698            53000        0.433962                5   \n",
       "\n",
       "   derogatory_marks  total_debt  loan_status  \n",
       "0                 1       22800            0  \n",
       "1                 0       13600            0  \n",
       "2                 0       16100            0  \n",
       "3                 1       22700            0  \n",
       "4                 1       23000            0  "
      ]
     },
     "execution_count": 2,
     "metadata": {},
     "output_type": "execute_result"
    }
   ],
   "source": [
    "# Read the CSV file from the Resources folder into a Pandas DataFrame\n",
    "df = pd.read_csv(\"Resources/lending_data.csv\")\n",
    "df.head()"
   ]
  },
  {
   "cell_type": "markdown",
   "metadata": {},
   "source": [
    "### Step 2: Create the labels set (`y`)  from the “loan_status” column, and then create the features (`X`) DataFrame from the remaining columns."
   ]
  },
  {
   "cell_type": "code",
   "execution_count": 3,
   "metadata": {},
   "outputs": [],
   "source": [
    "# Separate the data into labels and features\n",
    "y = df['loan_status']\n",
    "X = df.drop(columns='loan_status')"
   ]
  },
  {
   "cell_type": "code",
   "execution_count": 4,
   "metadata": {},
   "outputs": [
    {
     "data": {
      "text/plain": [
       "0    0\n",
       "1    0\n",
       "2    0\n",
       "3    0\n",
       "4    0\n",
       "Name: loan_status, dtype: int64"
      ]
     },
     "execution_count": 4,
     "metadata": {},
     "output_type": "execute_result"
    }
   ],
   "source": [
    "y.head()"
   ]
  },
  {
   "cell_type": "code",
   "execution_count": 5,
   "metadata": {},
   "outputs": [
    {
     "data": {
      "text/html": [
       "<div>\n",
       "<style scoped>\n",
       "    .dataframe tbody tr th:only-of-type {\n",
       "        vertical-align: middle;\n",
       "    }\n",
       "\n",
       "    .dataframe tbody tr th {\n",
       "        vertical-align: top;\n",
       "    }\n",
       "\n",
       "    .dataframe thead th {\n",
       "        text-align: right;\n",
       "    }\n",
       "</style>\n",
       "<table border=\"1\" class=\"dataframe\">\n",
       "  <thead>\n",
       "    <tr style=\"text-align: right;\">\n",
       "      <th></th>\n",
       "      <th>loan_size</th>\n",
       "      <th>interest_rate</th>\n",
       "      <th>borrower_income</th>\n",
       "      <th>debt_to_income</th>\n",
       "      <th>num_of_accounts</th>\n",
       "      <th>derogatory_marks</th>\n",
       "      <th>total_debt</th>\n",
       "    </tr>\n",
       "  </thead>\n",
       "  <tbody>\n",
       "    <tr>\n",
       "      <th>0</th>\n",
       "      <td>10700.0</td>\n",
       "      <td>7.672</td>\n",
       "      <td>52800</td>\n",
       "      <td>0.431818</td>\n",
       "      <td>5</td>\n",
       "      <td>1</td>\n",
       "      <td>22800</td>\n",
       "    </tr>\n",
       "    <tr>\n",
       "      <th>1</th>\n",
       "      <td>8400.0</td>\n",
       "      <td>6.692</td>\n",
       "      <td>43600</td>\n",
       "      <td>0.311927</td>\n",
       "      <td>3</td>\n",
       "      <td>0</td>\n",
       "      <td>13600</td>\n",
       "    </tr>\n",
       "    <tr>\n",
       "      <th>2</th>\n",
       "      <td>9000.0</td>\n",
       "      <td>6.963</td>\n",
       "      <td>46100</td>\n",
       "      <td>0.349241</td>\n",
       "      <td>3</td>\n",
       "      <td>0</td>\n",
       "      <td>16100</td>\n",
       "    </tr>\n",
       "    <tr>\n",
       "      <th>3</th>\n",
       "      <td>10700.0</td>\n",
       "      <td>7.664</td>\n",
       "      <td>52700</td>\n",
       "      <td>0.430740</td>\n",
       "      <td>5</td>\n",
       "      <td>1</td>\n",
       "      <td>22700</td>\n",
       "    </tr>\n",
       "    <tr>\n",
       "      <th>4</th>\n",
       "      <td>10800.0</td>\n",
       "      <td>7.698</td>\n",
       "      <td>53000</td>\n",
       "      <td>0.433962</td>\n",
       "      <td>5</td>\n",
       "      <td>1</td>\n",
       "      <td>23000</td>\n",
       "    </tr>\n",
       "  </tbody>\n",
       "</table>\n",
       "</div>"
      ],
      "text/plain": [
       "   loan_size  interest_rate  borrower_income  debt_to_income  num_of_accounts  \\\n",
       "0    10700.0          7.672            52800        0.431818                5   \n",
       "1     8400.0          6.692            43600        0.311927                3   \n",
       "2     9000.0          6.963            46100        0.349241                3   \n",
       "3    10700.0          7.664            52700        0.430740                5   \n",
       "4    10800.0          7.698            53000        0.433962                5   \n",
       "\n",
       "   derogatory_marks  total_debt  \n",
       "0                 1       22800  \n",
       "1                 0       13600  \n",
       "2                 0       16100  \n",
       "3                 1       22700  \n",
       "4                 1       23000  "
      ]
     },
     "execution_count": 5,
     "metadata": {},
     "output_type": "execute_result"
    }
   ],
   "source": [
    "X.head()"
   ]
  },
  {
   "cell_type": "markdown",
   "metadata": {},
   "source": [
    "### Step 3: Check the balance of the labels variable (`y`) by using the `value_counts` function."
   ]
  },
  {
   "cell_type": "code",
   "execution_count": 6,
   "metadata": {},
   "outputs": [
    {
     "data": {
      "text/plain": [
       "loan_status\n",
       "0    75036\n",
       "1     2500\n",
       "Name: count, dtype: int64"
      ]
     },
     "execution_count": 6,
     "metadata": {},
     "output_type": "execute_result"
    }
   ],
   "source": [
    "# Check the balance of our target values\n",
    "y.value_counts()"
   ]
  },
  {
   "cell_type": "markdown",
   "metadata": {},
   "source": [
    "### Step 4: Split the data into training and testing datasets by using `train_test_split`."
   ]
  },
  {
   "cell_type": "code",
   "execution_count": 7,
   "metadata": {},
   "outputs": [],
   "source": [
    "from sklearn.model_selection import train_test_split\n",
    "\n",
    "# Split the data using train_test_split\n",
    "X_train, X_test, y_train, y_test = train_test_split(X, y, random_state=1)"
   ]
  },
  {
   "cell_type": "markdown",
   "metadata": {},
   "source": [
    "---"
   ]
  },
  {
   "cell_type": "markdown",
   "metadata": {},
   "source": [
    "## Create a Logistic Regression Model with the Original Data"
   ]
  },
  {
   "cell_type": "markdown",
   "metadata": {},
   "source": [
    "###  Step 1: Fit a logistic regression model by using the training data (`X_train` and `y_train`)."
   ]
  },
  {
   "cell_type": "code",
   "execution_count": 8,
   "metadata": {},
   "outputs": [
    {
     "data": {
      "text/html": [
       "<style>#sk-container-id-1 {\n",
       "  /* Definition of color scheme common for light and dark mode */\n",
       "  --sklearn-color-text: black;\n",
       "  --sklearn-color-line: gray;\n",
       "  /* Definition of color scheme for unfitted estimators */\n",
       "  --sklearn-color-unfitted-level-0: #fff5e6;\n",
       "  --sklearn-color-unfitted-level-1: #f6e4d2;\n",
       "  --sklearn-color-unfitted-level-2: #ffe0b3;\n",
       "  --sklearn-color-unfitted-level-3: chocolate;\n",
       "  /* Definition of color scheme for fitted estimators */\n",
       "  --sklearn-color-fitted-level-0: #f0f8ff;\n",
       "  --sklearn-color-fitted-level-1: #d4ebff;\n",
       "  --sklearn-color-fitted-level-2: #b3dbfd;\n",
       "  --sklearn-color-fitted-level-3: cornflowerblue;\n",
       "\n",
       "  /* Specific color for light theme */\n",
       "  --sklearn-color-text-on-default-background: var(--sg-text-color, var(--theme-code-foreground, var(--jp-content-font-color1, black)));\n",
       "  --sklearn-color-background: var(--sg-background-color, var(--theme-background, var(--jp-layout-color0, white)));\n",
       "  --sklearn-color-border-box: var(--sg-text-color, var(--theme-code-foreground, var(--jp-content-font-color1, black)));\n",
       "  --sklearn-color-icon: #696969;\n",
       "\n",
       "  @media (prefers-color-scheme: dark) {\n",
       "    /* Redefinition of color scheme for dark theme */\n",
       "    --sklearn-color-text-on-default-background: var(--sg-text-color, var(--theme-code-foreground, var(--jp-content-font-color1, white)));\n",
       "    --sklearn-color-background: var(--sg-background-color, var(--theme-background, var(--jp-layout-color0, #111)));\n",
       "    --sklearn-color-border-box: var(--sg-text-color, var(--theme-code-foreground, var(--jp-content-font-color1, white)));\n",
       "    --sklearn-color-icon: #878787;\n",
       "  }\n",
       "}\n",
       "\n",
       "#sk-container-id-1 {\n",
       "  color: var(--sklearn-color-text);\n",
       "}\n",
       "\n",
       "#sk-container-id-1 pre {\n",
       "  padding: 0;\n",
       "}\n",
       "\n",
       "#sk-container-id-1 input.sk-hidden--visually {\n",
       "  border: 0;\n",
       "  clip: rect(1px 1px 1px 1px);\n",
       "  clip: rect(1px, 1px, 1px, 1px);\n",
       "  height: 1px;\n",
       "  margin: -1px;\n",
       "  overflow: hidden;\n",
       "  padding: 0;\n",
       "  position: absolute;\n",
       "  width: 1px;\n",
       "}\n",
       "\n",
       "#sk-container-id-1 div.sk-dashed-wrapped {\n",
       "  border: 1px dashed var(--sklearn-color-line);\n",
       "  margin: 0 0.4em 0.5em 0.4em;\n",
       "  box-sizing: border-box;\n",
       "  padding-bottom: 0.4em;\n",
       "  background-color: var(--sklearn-color-background);\n",
       "}\n",
       "\n",
       "#sk-container-id-1 div.sk-container {\n",
       "  /* jupyter's `normalize.less` sets `[hidden] { display: none; }`\n",
       "     but bootstrap.min.css set `[hidden] { display: none !important; }`\n",
       "     so we also need the `!important` here to be able to override the\n",
       "     default hidden behavior on the sphinx rendered scikit-learn.org.\n",
       "     See: https://github.com/scikit-learn/scikit-learn/issues/21755 */\n",
       "  display: inline-block !important;\n",
       "  position: relative;\n",
       "}\n",
       "\n",
       "#sk-container-id-1 div.sk-text-repr-fallback {\n",
       "  display: none;\n",
       "}\n",
       "\n",
       "div.sk-parallel-item,\n",
       "div.sk-serial,\n",
       "div.sk-item {\n",
       "  /* draw centered vertical line to link estimators */\n",
       "  background-image: linear-gradient(var(--sklearn-color-text-on-default-background), var(--sklearn-color-text-on-default-background));\n",
       "  background-size: 2px 100%;\n",
       "  background-repeat: no-repeat;\n",
       "  background-position: center center;\n",
       "}\n",
       "\n",
       "/* Parallel-specific style estimator block */\n",
       "\n",
       "#sk-container-id-1 div.sk-parallel-item::after {\n",
       "  content: \"\";\n",
       "  width: 100%;\n",
       "  border-bottom: 2px solid var(--sklearn-color-text-on-default-background);\n",
       "  flex-grow: 1;\n",
       "}\n",
       "\n",
       "#sk-container-id-1 div.sk-parallel {\n",
       "  display: flex;\n",
       "  align-items: stretch;\n",
       "  justify-content: center;\n",
       "  background-color: var(--sklearn-color-background);\n",
       "  position: relative;\n",
       "}\n",
       "\n",
       "#sk-container-id-1 div.sk-parallel-item {\n",
       "  display: flex;\n",
       "  flex-direction: column;\n",
       "}\n",
       "\n",
       "#sk-container-id-1 div.sk-parallel-item:first-child::after {\n",
       "  align-self: flex-end;\n",
       "  width: 50%;\n",
       "}\n",
       "\n",
       "#sk-container-id-1 div.sk-parallel-item:last-child::after {\n",
       "  align-self: flex-start;\n",
       "  width: 50%;\n",
       "}\n",
       "\n",
       "#sk-container-id-1 div.sk-parallel-item:only-child::after {\n",
       "  width: 0;\n",
       "}\n",
       "\n",
       "/* Serial-specific style estimator block */\n",
       "\n",
       "#sk-container-id-1 div.sk-serial {\n",
       "  display: flex;\n",
       "  flex-direction: column;\n",
       "  align-items: center;\n",
       "  background-color: var(--sklearn-color-background);\n",
       "  padding-right: 1em;\n",
       "  padding-left: 1em;\n",
       "}\n",
       "\n",
       "\n",
       "/* Toggleable style: style used for estimator/Pipeline/ColumnTransformer box that is\n",
       "clickable and can be expanded/collapsed.\n",
       "- Pipeline and ColumnTransformer use this feature and define the default style\n",
       "- Estimators will overwrite some part of the style using the `sk-estimator` class\n",
       "*/\n",
       "\n",
       "/* Pipeline and ColumnTransformer style (default) */\n",
       "\n",
       "#sk-container-id-1 div.sk-toggleable {\n",
       "  /* Default theme specific background. It is overwritten whether we have a\n",
       "  specific estimator or a Pipeline/ColumnTransformer */\n",
       "  background-color: var(--sklearn-color-background);\n",
       "}\n",
       "\n",
       "/* Toggleable label */\n",
       "#sk-container-id-1 label.sk-toggleable__label {\n",
       "  cursor: pointer;\n",
       "  display: block;\n",
       "  width: 100%;\n",
       "  margin-bottom: 0;\n",
       "  padding: 0.5em;\n",
       "  box-sizing: border-box;\n",
       "  text-align: center;\n",
       "}\n",
       "\n",
       "#sk-container-id-1 label.sk-toggleable__label-arrow:before {\n",
       "  /* Arrow on the left of the label */\n",
       "  content: \"▸\";\n",
       "  float: left;\n",
       "  margin-right: 0.25em;\n",
       "  color: var(--sklearn-color-icon);\n",
       "}\n",
       "\n",
       "#sk-container-id-1 label.sk-toggleable__label-arrow:hover:before {\n",
       "  color: var(--sklearn-color-text);\n",
       "}\n",
       "\n",
       "/* Toggleable content - dropdown */\n",
       "\n",
       "#sk-container-id-1 div.sk-toggleable__content {\n",
       "  max-height: 0;\n",
       "  max-width: 0;\n",
       "  overflow: hidden;\n",
       "  text-align: left;\n",
       "  /* unfitted */\n",
       "  background-color: var(--sklearn-color-unfitted-level-0);\n",
       "}\n",
       "\n",
       "#sk-container-id-1 div.sk-toggleable__content.fitted {\n",
       "  /* fitted */\n",
       "  background-color: var(--sklearn-color-fitted-level-0);\n",
       "}\n",
       "\n",
       "#sk-container-id-1 div.sk-toggleable__content pre {\n",
       "  margin: 0.2em;\n",
       "  border-radius: 0.25em;\n",
       "  color: var(--sklearn-color-text);\n",
       "  /* unfitted */\n",
       "  background-color: var(--sklearn-color-unfitted-level-0);\n",
       "}\n",
       "\n",
       "#sk-container-id-1 div.sk-toggleable__content.fitted pre {\n",
       "  /* unfitted */\n",
       "  background-color: var(--sklearn-color-fitted-level-0);\n",
       "}\n",
       "\n",
       "#sk-container-id-1 input.sk-toggleable__control:checked~div.sk-toggleable__content {\n",
       "  /* Expand drop-down */\n",
       "  max-height: 200px;\n",
       "  max-width: 100%;\n",
       "  overflow: auto;\n",
       "}\n",
       "\n",
       "#sk-container-id-1 input.sk-toggleable__control:checked~label.sk-toggleable__label-arrow:before {\n",
       "  content: \"▾\";\n",
       "}\n",
       "\n",
       "/* Pipeline/ColumnTransformer-specific style */\n",
       "\n",
       "#sk-container-id-1 div.sk-label input.sk-toggleable__control:checked~label.sk-toggleable__label {\n",
       "  color: var(--sklearn-color-text);\n",
       "  background-color: var(--sklearn-color-unfitted-level-2);\n",
       "}\n",
       "\n",
       "#sk-container-id-1 div.sk-label.fitted input.sk-toggleable__control:checked~label.sk-toggleable__label {\n",
       "  background-color: var(--sklearn-color-fitted-level-2);\n",
       "}\n",
       "\n",
       "/* Estimator-specific style */\n",
       "\n",
       "/* Colorize estimator box */\n",
       "#sk-container-id-1 div.sk-estimator input.sk-toggleable__control:checked~label.sk-toggleable__label {\n",
       "  /* unfitted */\n",
       "  background-color: var(--sklearn-color-unfitted-level-2);\n",
       "}\n",
       "\n",
       "#sk-container-id-1 div.sk-estimator.fitted input.sk-toggleable__control:checked~label.sk-toggleable__label {\n",
       "  /* fitted */\n",
       "  background-color: var(--sklearn-color-fitted-level-2);\n",
       "}\n",
       "\n",
       "#sk-container-id-1 div.sk-label label.sk-toggleable__label,\n",
       "#sk-container-id-1 div.sk-label label {\n",
       "  /* The background is the default theme color */\n",
       "  color: var(--sklearn-color-text-on-default-background);\n",
       "}\n",
       "\n",
       "/* On hover, darken the color of the background */\n",
       "#sk-container-id-1 div.sk-label:hover label.sk-toggleable__label {\n",
       "  color: var(--sklearn-color-text);\n",
       "  background-color: var(--sklearn-color-unfitted-level-2);\n",
       "}\n",
       "\n",
       "/* Label box, darken color on hover, fitted */\n",
       "#sk-container-id-1 div.sk-label.fitted:hover label.sk-toggleable__label.fitted {\n",
       "  color: var(--sklearn-color-text);\n",
       "  background-color: var(--sklearn-color-fitted-level-2);\n",
       "}\n",
       "\n",
       "/* Estimator label */\n",
       "\n",
       "#sk-container-id-1 div.sk-label label {\n",
       "  font-family: monospace;\n",
       "  font-weight: bold;\n",
       "  display: inline-block;\n",
       "  line-height: 1.2em;\n",
       "}\n",
       "\n",
       "#sk-container-id-1 div.sk-label-container {\n",
       "  text-align: center;\n",
       "}\n",
       "\n",
       "/* Estimator-specific */\n",
       "#sk-container-id-1 div.sk-estimator {\n",
       "  font-family: monospace;\n",
       "  border: 1px dotted var(--sklearn-color-border-box);\n",
       "  border-radius: 0.25em;\n",
       "  box-sizing: border-box;\n",
       "  margin-bottom: 0.5em;\n",
       "  /* unfitted */\n",
       "  background-color: var(--sklearn-color-unfitted-level-0);\n",
       "}\n",
       "\n",
       "#sk-container-id-1 div.sk-estimator.fitted {\n",
       "  /* fitted */\n",
       "  background-color: var(--sklearn-color-fitted-level-0);\n",
       "}\n",
       "\n",
       "/* on hover */\n",
       "#sk-container-id-1 div.sk-estimator:hover {\n",
       "  /* unfitted */\n",
       "  background-color: var(--sklearn-color-unfitted-level-2);\n",
       "}\n",
       "\n",
       "#sk-container-id-1 div.sk-estimator.fitted:hover {\n",
       "  /* fitted */\n",
       "  background-color: var(--sklearn-color-fitted-level-2);\n",
       "}\n",
       "\n",
       "/* Specification for estimator info (e.g. \"i\" and \"?\") */\n",
       "\n",
       "/* Common style for \"i\" and \"?\" */\n",
       "\n",
       ".sk-estimator-doc-link,\n",
       "a:link.sk-estimator-doc-link,\n",
       "a:visited.sk-estimator-doc-link {\n",
       "  float: right;\n",
       "  font-size: smaller;\n",
       "  line-height: 1em;\n",
       "  font-family: monospace;\n",
       "  background-color: var(--sklearn-color-background);\n",
       "  border-radius: 1em;\n",
       "  height: 1em;\n",
       "  width: 1em;\n",
       "  text-decoration: none !important;\n",
       "  margin-left: 1ex;\n",
       "  /* unfitted */\n",
       "  border: var(--sklearn-color-unfitted-level-1) 1pt solid;\n",
       "  color: var(--sklearn-color-unfitted-level-1);\n",
       "}\n",
       "\n",
       ".sk-estimator-doc-link.fitted,\n",
       "a:link.sk-estimator-doc-link.fitted,\n",
       "a:visited.sk-estimator-doc-link.fitted {\n",
       "  /* fitted */\n",
       "  border: var(--sklearn-color-fitted-level-1) 1pt solid;\n",
       "  color: var(--sklearn-color-fitted-level-1);\n",
       "}\n",
       "\n",
       "/* On hover */\n",
       "div.sk-estimator:hover .sk-estimator-doc-link:hover,\n",
       ".sk-estimator-doc-link:hover,\n",
       "div.sk-label-container:hover .sk-estimator-doc-link:hover,\n",
       ".sk-estimator-doc-link:hover {\n",
       "  /* unfitted */\n",
       "  background-color: var(--sklearn-color-unfitted-level-3);\n",
       "  color: var(--sklearn-color-background);\n",
       "  text-decoration: none;\n",
       "}\n",
       "\n",
       "div.sk-estimator.fitted:hover .sk-estimator-doc-link.fitted:hover,\n",
       ".sk-estimator-doc-link.fitted:hover,\n",
       "div.sk-label-container:hover .sk-estimator-doc-link.fitted:hover,\n",
       ".sk-estimator-doc-link.fitted:hover {\n",
       "  /* fitted */\n",
       "  background-color: var(--sklearn-color-fitted-level-3);\n",
       "  color: var(--sklearn-color-background);\n",
       "  text-decoration: none;\n",
       "}\n",
       "\n",
       "/* Span, style for the box shown on hovering the info icon */\n",
       ".sk-estimator-doc-link span {\n",
       "  display: none;\n",
       "  z-index: 9999;\n",
       "  position: relative;\n",
       "  font-weight: normal;\n",
       "  right: .2ex;\n",
       "  padding: .5ex;\n",
       "  margin: .5ex;\n",
       "  width: min-content;\n",
       "  min-width: 20ex;\n",
       "  max-width: 50ex;\n",
       "  color: var(--sklearn-color-text);\n",
       "  box-shadow: 2pt 2pt 4pt #999;\n",
       "  /* unfitted */\n",
       "  background: var(--sklearn-color-unfitted-level-0);\n",
       "  border: .5pt solid var(--sklearn-color-unfitted-level-3);\n",
       "}\n",
       "\n",
       ".sk-estimator-doc-link.fitted span {\n",
       "  /* fitted */\n",
       "  background: var(--sklearn-color-fitted-level-0);\n",
       "  border: var(--sklearn-color-fitted-level-3);\n",
       "}\n",
       "\n",
       ".sk-estimator-doc-link:hover span {\n",
       "  display: block;\n",
       "}\n",
       "\n",
       "/* \"?\"-specific style due to the `<a>` HTML tag */\n",
       "\n",
       "#sk-container-id-1 a.estimator_doc_link {\n",
       "  float: right;\n",
       "  font-size: 1rem;\n",
       "  line-height: 1em;\n",
       "  font-family: monospace;\n",
       "  background-color: var(--sklearn-color-background);\n",
       "  border-radius: 1rem;\n",
       "  height: 1rem;\n",
       "  width: 1rem;\n",
       "  text-decoration: none;\n",
       "  /* unfitted */\n",
       "  color: var(--sklearn-color-unfitted-level-1);\n",
       "  border: var(--sklearn-color-unfitted-level-1) 1pt solid;\n",
       "}\n",
       "\n",
       "#sk-container-id-1 a.estimator_doc_link.fitted {\n",
       "  /* fitted */\n",
       "  border: var(--sklearn-color-fitted-level-1) 1pt solid;\n",
       "  color: var(--sklearn-color-fitted-level-1);\n",
       "}\n",
       "\n",
       "/* On hover */\n",
       "#sk-container-id-1 a.estimator_doc_link:hover {\n",
       "  /* unfitted */\n",
       "  background-color: var(--sklearn-color-unfitted-level-3);\n",
       "  color: var(--sklearn-color-background);\n",
       "  text-decoration: none;\n",
       "}\n",
       "\n",
       "#sk-container-id-1 a.estimator_doc_link.fitted:hover {\n",
       "  /* fitted */\n",
       "  background-color: var(--sklearn-color-fitted-level-3);\n",
       "}\n",
       "</style><div id=\"sk-container-id-1\" class=\"sk-top-container\"><div class=\"sk-text-repr-fallback\"><pre>LogisticRegression(max_iter=200, random_state=1)</pre><b>In a Jupyter environment, please rerun this cell to show the HTML representation or trust the notebook. <br />On GitHub, the HTML representation is unable to render, please try loading this page with nbviewer.org.</b></div><div class=\"sk-container\" hidden><div class=\"sk-item\"><div class=\"sk-estimator  sk-toggleable\"><input class=\"sk-toggleable__control sk-hidden--visually\" id=\"sk-estimator-id-1\" type=\"checkbox\" checked><label for=\"sk-estimator-id-1\" class=\"sk-toggleable__label  sk-toggleable__label-arrow \">&nbsp;&nbsp;LogisticRegression<a class=\"sk-estimator-doc-link \" rel=\"noreferrer\" target=\"_blank\" href=\"https://scikit-learn.org/1.5/modules/generated/sklearn.linear_model.LogisticRegression.html\">?<span>Documentation for LogisticRegression</span></a><span class=\"sk-estimator-doc-link \">i<span>Not fitted</span></span></label><div class=\"sk-toggleable__content \"><pre>LogisticRegression(max_iter=200, random_state=1)</pre></div> </div></div></div></div>"
      ],
      "text/plain": [
       "LogisticRegression(max_iter=200, random_state=1)"
      ]
     },
     "execution_count": 8,
     "metadata": {},
     "output_type": "execute_result"
    }
   ],
   "source": [
    "from sklearn.linear_model import LogisticRegression\n",
    "\n",
    "# Instantiate the Logistic Regression model\n",
    "classifier = LogisticRegression(solver='lbfgs',\n",
    "                                max_iter=200,\n",
    "                                random_state=1)\n",
    "classifier"
   ]
  },
  {
   "cell_type": "code",
   "execution_count": 9,
   "metadata": {},
   "outputs": [
    {
     "name": "stderr",
     "output_type": "stream",
     "text": [
      "/opt/anaconda3/lib/python3.12/site-packages/sklearn/linear_model/_logistic.py:469: ConvergenceWarning: lbfgs failed to converge (status=1):\n",
      "STOP: TOTAL NO. of ITERATIONS REACHED LIMIT.\n",
      "\n",
      "Increase the number of iterations (max_iter) or scale the data as shown in:\n",
      "    https://scikit-learn.org/stable/modules/preprocessing.html\n",
      "Please also refer to the documentation for alternative solver options:\n",
      "    https://scikit-learn.org/stable/modules/linear_model.html#logistic-regression\n",
      "  n_iter_i = _check_optimize_result(\n"
     ]
    }
   ],
   "source": [
    "# Fit the model using training data\n",
    "logistic_regression_model = LogisticRegression(random_state=1)\n",
    "\n",
    "lr_model = logistic_regression_model.fit(X_train, y_train)"
   ]
  },
  {
   "cell_type": "markdown",
   "metadata": {},
   "source": [
    "### Step 2: Save the predictions on the testing data labels by using the testing feature data (`X_test`) and the fitted model."
   ]
  },
  {
   "cell_type": "code",
   "execution_count": 11,
   "metadata": {},
   "outputs": [],
   "source": [
    "# Make a prediction using the Training data\n",
    "training_predictions = lr_model.predict(X_train)\n",
    "\n",
    "#Generate testing predictions\n",
    "testing_predictions = logistic_regression_model.predict(X_test)"
   ]
  },
  {
   "cell_type": "markdown",
   "metadata": {},
   "source": [
    "### Step 3: Evaluate the model’s performance by doing the following:\n",
    "\n",
    "* Calculate the accuracy score of the model.\n",
    "\n",
    "* Generate a confusion matrix.\n",
    "\n",
    "* Print the classification report."
   ]
  },
  {
   "cell_type": "code",
   "execution_count": 12,
   "metadata": {},
   "outputs": [
    {
     "data": {
      "text/plain": [
       "0.9924680148576145"
      ]
     },
     "execution_count": 12,
     "metadata": {},
     "output_type": "execute_result"
    }
   ],
   "source": [
    "from sklearn.metrics import accuracy_score\n",
    "accuracy_score(y_test, testing_predictions)"
   ]
  },
  {
   "cell_type": "code",
   "execution_count": 13,
   "metadata": {},
   "outputs": [
    {
     "name": "stdout",
     "output_type": "stream",
     "text": [
      "[[55987   284]\n",
      " [  127  1754]]\n"
     ]
    }
   ],
   "source": [
    "training_matrix = confusion_matrix(y_train, training_predictions)\n",
    "print(training_matrix)"
   ]
  },
  {
   "cell_type": "code",
   "execution_count": 14,
   "metadata": {},
   "outputs": [
    {
     "name": "stdout",
     "output_type": "stream",
     "text": [
      "[[18655   110]\n",
      " [   36   583]]\n"
     ]
    }
   ],
   "source": [
    "testing_matrix = confusion_matrix(y_test, testing_predictions)\n",
    "print(testing_matrix)"
   ]
  },
  {
   "cell_type": "code",
   "execution_count": 15,
   "metadata": {},
   "outputs": [
    {
     "name": "stdout",
     "output_type": "stream",
     "text": [
      "              precision    recall  f1-score   support\n",
      "\n",
      "           0       1.00      0.99      1.00     56271\n",
      "           1       0.86      0.93      0.90      1881\n",
      "\n",
      "    accuracy                           0.99     58152\n",
      "   macro avg       0.93      0.96      0.95     58152\n",
      "weighted avg       0.99      0.99      0.99     58152\n",
      "\n"
     ]
    }
   ],
   "source": [
    "training_report = classification_report(y_train, training_predictions)\n",
    "print(training_report)"
   ]
  },
  {
   "cell_type": "code",
   "execution_count": 16,
   "metadata": {},
   "outputs": [
    {
     "name": "stdout",
     "output_type": "stream",
     "text": [
      "              precision    recall  f1-score   support\n",
      "\n",
      "           0       1.00      0.99      1.00     18765\n",
      "           1       0.84      0.94      0.89       619\n",
      "\n",
      "    accuracy                           0.99     19384\n",
      "   macro avg       0.92      0.97      0.94     19384\n",
      "weighted avg       0.99      0.99      0.99     19384\n",
      "\n"
     ]
    }
   ],
   "source": [
    "testing_report = classification_report(y_test, testing_predictions)\n",
    "print(testing_report)\n"
   ]
  },
  {
   "cell_type": "markdown",
   "metadata": {},
   "source": [
    "### Step 4: Answer the following question."
   ]
  },
  {
   "cell_type": "markdown",
   "metadata": {},
   "source": [
    "**Question:** How well does the logistic regression model predict both the `0` (healthy loan) and `1` (high-risk loan) labels?\n",
    "\n",
    "**Answer:** The Logistic Regression model does very well at predicting healthy loans with accuracy, precision and recall close to 100%. It still does well, but performs noticably worse at identifying high-risk loans where it has a precision of 85% and a recall of 91%. This suggests that this model is less able to classify high risk loans than healthy loans. This is likely related to the skew in the data that was provided, with only about 3 percent of the sample being in the high risk loans category."
   ]
  },
  {
   "cell_type": "markdown",
   "metadata": {},
   "source": [
    "---"
   ]
  },
  {
   "cell_type": "markdown",
   "metadata": {},
   "source": [
    "## Predict a Logistic Regression Model with Resampled Training Data"
   ]
  },
  {
   "cell_type": "markdown",
   "metadata": {},
   "source": [
    "### Step 1: Use the `RandomOverSampler` module from the imbalanced-learn library to resample the data. Be sure to confirm that the labels have an equal number of data points. "
   ]
  },
  {
   "cell_type": "code",
   "execution_count": 17,
   "metadata": {},
   "outputs": [],
   "source": [
    "# Import the RandomOverSampler module form imbalanced-learn\n",
    "from imblearn.over_sampling import RandomOverSampler\n",
    "\n",
    "ROS = RandomOverSampler(random_state=1)\n",
    "\n",
    "X_resampled, y_resampled= ROS.fit_resample(X_train, y_train)\n"
   ]
  },
  {
   "cell_type": "code",
   "execution_count": 18,
   "metadata": {},
   "outputs": [
    {
     "data": {
      "text/plain": [
       "loan_status\n",
       "0    56271\n",
       "1    56271\n",
       "Name: count, dtype: int64"
      ]
     },
     "execution_count": 18,
     "metadata": {},
     "output_type": "execute_result"
    }
   ],
   "source": [
    "y_resampled.value_counts()"
   ]
  },
  {
   "cell_type": "code",
   "execution_count": 19,
   "metadata": {},
   "outputs": [],
   "source": [
    "X_train1, X_test1, y_train1, y_test1 = train_test_split(X_resampled, y_resampled, random_state=1)"
   ]
  },
  {
   "cell_type": "markdown",
   "metadata": {},
   "source": [
    "### Step 2: Use the `LogisticRegression` classifier and the resampled data to fit the model and make predictions."
   ]
  },
  {
   "cell_type": "code",
   "execution_count": 20,
   "metadata": {},
   "outputs": [],
   "source": [
    "# Instantiate the Logistic Regression model\n",
    "classifierR = LogisticRegression(solver='lbfgs',\n",
    "                                max_iter=200,\n",
    "                                random_state=1)\n",
    "classifierR\n",
    "# Fit the model using the resampled training data\n",
    "logistic_regression_model = LogisticRegression(random_state=1)\n",
    "\n",
    "lr_model = logistic_regression_model.fit(X_train1, y_train1)\n",
    "\n",
    "# Make a prediction using the Training data\n",
    "training_predictions1 = lr_model.predict(X_train1)\n",
    "\n",
    "# Make a prediction using the testing data\n",
    "testing_predictions1 = logistic_regression_model.predict(X_test1)"
   ]
  },
  {
   "cell_type": "markdown",
   "metadata": {},
   "source": [
    "### Step 3: Evaluate the model’s performance by doing the following:\n",
    "\n",
    "* Calculate the accuracy score of the model.\n",
    "\n",
    "* Generate a confusion matrix.\n",
    "\n",
    "* Print the classification report."
   ]
  },
  {
   "cell_type": "code",
   "execution_count": 21,
   "metadata": {},
   "outputs": [
    {
     "data": {
      "text/plain": [
       "0.9941711686096104"
      ]
     },
     "execution_count": 21,
     "metadata": {},
     "output_type": "execute_result"
    }
   ],
   "source": [
    "# Print the balanced_accuracy score of the model \n",
    "accuracy_score(y_test1, testing_predictions1)"
   ]
  },
  {
   "cell_type": "code",
   "execution_count": 22,
   "metadata": {},
   "outputs": [
    {
     "name": "stdout",
     "output_type": "stream",
     "text": [
      "[[41940   225]\n",
      " [  212 42029]]\n"
     ]
    }
   ],
   "source": [
    "training_matrix = confusion_matrix(y_train1, training_predictions1)\n",
    "print(training_matrix)"
   ]
  },
  {
   "cell_type": "code",
   "execution_count": 23,
   "metadata": {},
   "outputs": [
    {
     "name": "stdout",
     "output_type": "stream",
     "text": [
      "[[14016    90]\n",
      " [   74 13956]]\n"
     ]
    }
   ],
   "source": [
    "testing_matrix = confusion_matrix(y_test1, testing_predictions1)\n",
    "print(testing_matrix)"
   ]
  },
  {
   "cell_type": "code",
   "execution_count": 24,
   "metadata": {},
   "outputs": [
    {
     "name": "stdout",
     "output_type": "stream",
     "text": [
      "              precision    recall  f1-score   support\n",
      "\n",
      "           0       0.99      0.99      0.99     42165\n",
      "           1       0.99      0.99      0.99     42241\n",
      "\n",
      "    accuracy                           0.99     84406\n",
      "   macro avg       0.99      0.99      0.99     84406\n",
      "weighted avg       0.99      0.99      0.99     84406\n",
      "\n"
     ]
    }
   ],
   "source": [
    "# Print the Training classification report for the model\n",
    "training_report = classification_report(y_train1, training_predictions1)\n",
    "print(training_report)"
   ]
  },
  {
   "cell_type": "code",
   "execution_count": 25,
   "metadata": {},
   "outputs": [
    {
     "name": "stdout",
     "output_type": "stream",
     "text": [
      "              precision    recall  f1-score   support\n",
      "\n",
      "           0       0.99      0.99      0.99     14106\n",
      "           1       0.99      0.99      0.99     14030\n",
      "\n",
      "    accuracy                           0.99     28136\n",
      "   macro avg       0.99      0.99      0.99     28136\n",
      "weighted avg       0.99      0.99      0.99     28136\n",
      "\n"
     ]
    }
   ],
   "source": [
    "# Print the Testing classification report for the model\n",
    "testing_report = classification_report(y_test1, testing_predictions1)\n",
    "print(testing_report)"
   ]
  },
  {
   "cell_type": "markdown",
   "metadata": {},
   "source": [
    "### Step 4: Answer the following question"
   ]
  },
  {
   "cell_type": "markdown",
   "metadata": {},
   "source": [
    "**Question:** How well does the logistic regression model, fit with oversampled data, predict both the `0` (healthy loan) and `1` (high-risk loan) labels?\n",
    "\n",
    "**Answer:** It performs noticably better at identifying high risk loans in addition to identifying healthy loans. The overall prediction rate is consistent across precision, recall, and accuracy."
   ]
  },
  {
   "cell_type": "markdown",
   "metadata": {},
   "source": [
    "---\n",
    "\n",
    "## Model Deployment Preparation\n",
    "\n",
    "Now let's prepare this model for deployment by saving the trained model and creating deployment files."
   ]
  },
  {
   "cell_type": "code",
   "execution_count": 26,
   "metadata": {},
   "outputs": [
    {
     "name": "stdout",
     "output_type": "stream",
     "text": [
      "Model saved successfully!\n",
      "Features: ['loan_size', 'interest_rate', 'borrower_income', 'debt_to_income', 'num_of_accounts', 'derogatory_marks', 'total_debt']\n"
     ]
    }
   ],
   "source": [
    "# Save the best model (oversampled version) for deployment\n",
    "import joblib\n",
    "\n",
    "# The oversampled model performed better, so we'll use that for deployment\n",
    "# First, let's retrain on the original training data for production use\n",
    "final_model = LogisticRegression(random_state=1)\n",
    "final_model.fit(X_resampled, y_resampled)\n",
    "\n",
    "# Save the model\n",
    "joblib.dump(final_model, 'credit_risk_model.pkl')\n",
    "\n",
    "# Also save the feature names for the web app\n",
    "feature_names = X.columns.tolist()\n",
    "joblib.dump(feature_names, 'feature_names.pkl')\n",
    "\n",
    "print(\"Model saved successfully!\")\n",
    "print(f\"Features: {feature_names}\")"
   ]
  },
  {
   "cell_type": "markdown",
   "metadata": {},
   "source": [
    "---\n",
    "\n",
    "## Model Comparison: Logistic Regression vs Random Forest vs XGBoost\n",
    "\n",
    "Now let's compare multiple machine learning algorithms to find the best performing model for credit risk classification."
   ]
  },
  {
   "cell_type": "code",
   "execution_count": 27,
   "metadata": {},
   "outputs": [
    {
     "name": "stdout",
     "output_type": "stream",
     "text": [
      "XGBoost imported successfully\n"
     ]
    }
   ],
   "source": [
    "# Import additional models for comparison\n",
    "from sklearn.ensemble import RandomForestClassifier\n",
    "from sklearn.linear_model import LogisticRegression\n",
    "from sklearn.model_selection import cross_val_score\n",
    "from sklearn.metrics import roc_auc_score, roc_curve, accuracy_score\n",
    "import matplotlib.pyplot as plt\n",
    "\n",
    "# Import XGBoost (install if needed: pip install xgboost)\n",
    "try:\n",
    "    from xgboost import XGBClassifier\n",
    "    xgb_available = True\n",
    "    print(\"XGBoost imported successfully\")\n",
    "except ImportError:\n",
    "    print(\"XGBoost not available. Install with: pip install xgboost\")\n",
    "    xgb_available = False"
   ]
  },
  {
   "cell_type": "code",
   "execution_count": 28,
   "metadata": {},
   "outputs": [
    {
     "name": "stdout",
     "output_type": "stream",
     "text": [
      "Models to compare: ['Logistic Regression', 'Random Forest', 'XGBoost']\n"
     ]
    }
   ],
   "source": [
    "# Initialize multiple models for comparison\n",
    "models = {\n",
    "    'Logistic Regression': LogisticRegression(random_state=1),\n",
    "    'Random Forest': RandomForestClassifier(\n",
    "        n_estimators=100,\n",
    "        random_state=1,\n",
    "        max_depth=10,\n",
    "        min_samples_split=5\n",
    "    )\n",
    "}\n",
    "\n",
    "# Add XGBoost if available\n",
    "if xgb_available:\n",
    "    models['XGBoost'] = XGBClassifier(\n",
    "        n_estimators=100,\n",
    "        random_state=1,\n",
    "        max_depth=6,\n",
    "        learning_rate=0.1,\n",
    "        eval_metric='logloss'\n",
    "    )\n",
    "\n",
    "print(f\"Models to compare: {list(models.keys())}\")"
   ]
  },
  {
   "cell_type": "code",
   "execution_count": 30,
   "metadata": {},
   "outputs": [
    {
     "name": "stdout",
     "output_type": "stream",
     "text": [
      "Starting fresh model training...\n",
      "Models to train: ['Logistic Regression', 'Random Forest', 'XGBoost']\n",
      "============================================================\n",
      "\n",
      "==================================================\n",
      "Training Logistic Regression...\n",
      "==================================================\n",
      "Training Accuracy: 0.9947\n",
      "Test Accuracy: 0.9942\n",
      "ROC AUC Score: 0.9945\n",
      "CV Score: 0.9947 (+/- 0.0011)\n",
      "\n",
      "==================================================\n",
      "Training Random Forest...\n",
      "==================================================\n",
      "Training Accuracy: 0.9947\n",
      "Test Accuracy: 0.9942\n",
      "ROC AUC Score: 0.9945\n",
      "CV Score: 0.9947 (+/- 0.0011)\n",
      "\n",
      "==================================================\n",
      "Training Random Forest...\n",
      "==================================================\n",
      "Training Accuracy: 0.9955\n",
      "Test Accuracy: 0.9953\n",
      "ROC AUC Score: 0.9994\n",
      "CV Score: 0.9954 (+/- 0.0009)\n",
      "\n",
      "==================================================\n",
      "Training XGBoost...\n",
      "==================================================\n",
      "Training Accuracy: 0.9955\n",
      "Test Accuracy: 0.9953\n",
      "ROC AUC Score: 0.9994\n",
      "CV Score: 0.9954 (+/- 0.0009)\n",
      "\n",
      "==================================================\n",
      "Training XGBoost...\n",
      "==================================================\n",
      "Training Accuracy: 0.9951\n",
      "Test Accuracy: 0.9947\n",
      "ROC AUC Score: 0.9980\n",
      "CV Score: 0.9950 (+/- 0.0011)\n",
      "\n",
      "==================================================\n",
      "All models trained successfully!\n",
      "==================================================\n",
      "Training Accuracy: 0.9951\n",
      "Test Accuracy: 0.9947\n",
      "ROC AUC Score: 0.9980\n",
      "CV Score: 0.9950 (+/- 0.0011)\n",
      "\n",
      "==================================================\n",
      "All models trained successfully!\n",
      "==================================================\n"
     ]
    }
   ],
   "source": [
    "# Train and evaluate all models\n",
    "model_results = {}\n",
    "\n",
    "print(\"Starting fresh model training...\")\n",
    "print(f\"Models to train: {list(models.keys())}\")\n",
    "print(\"=\"*60)\n",
    "\n",
    "for name, model in models.items():\n",
    "    print(f\"\\n{'='*50}\")\n",
    "    print(f\"Training {name}...\")\n",
    "    print(f\"{'='*50}\")\n",
    "    # Train the fresh model\n",
    "    model.fit(X_resampled, y_resampled)\n",
    "\n",
    "    # Make predictions\n",
    "    y_pred_train = model.predict(X_resampled)\n",
    "    y_pred_test = model.predict(X_test1)\n",
    "\n",
    "    # Calculate metrics\n",
    "    train_accuracy = accuracy_score(y_resampled, y_pred_train)\n",
    "    test_accuracy = accuracy_score(y_test1, y_pred_test)\n",
    "    test_roc_auc = roc_auc_score(y_test1, model.predict_proba(X_test1)[:, 1])\n",
    "\n",
    "    # Cross-validation score\n",
    "    cv_scores = cross_val_score(model, X_resampled, y_resampled, cv=5, scoring='accuracy')\n",
    "\n",
    "    # Store results\n",
    "    model_results[name] = {\n",
    "        'model': model,\n",
    "        'train_accuracy': train_accuracy,\n",
    "        'test_accuracy': test_accuracy,\n",
    "        'roc_auc': test_roc_auc,\n",
    "        'cv_mean': cv_scores.mean(),\n",
    "        'cv_std': cv_scores.std(),\n",
    "        'y_pred_test': y_pred_test\n",
    "    }\n",
    "    \n",
    "    print(f\"Training Accuracy: {train_accuracy:.4f}\")\n",
    "    print(f\"Test Accuracy: {test_accuracy:.4f}\")\n",
    "    print(f\"ROC AUC Score: {test_roc_auc:.4f}\")\n",
    "    print(f\"CV Score: {cv_scores.mean():.4f} (+/- {cv_scores.std() * 2:.4f})\")\n",
    "\n",
    "print(f\"\\n{'='*50}\")\n",
    "print(\"All models trained successfully!\")\n",
    "print(f\"{'='*50}\")"
   ]
  },
  {
   "cell_type": "code",
   "execution_count": 39,
   "metadata": {},
   "outputs": [
    {
     "name": "stdout",
     "output_type": "stream",
     "text": [
      "Model Performance Comparison:\n",
      "============================================================\n",
      "                 Model  Test Accuracy  ROC AUC  CV Mean  CV Std\n",
      "1        Random Forest         0.9953   0.9994   0.9954  0.0004\n",
      "2              XGBoost         0.9947   0.9980   0.9950  0.0005\n",
      "0  Logistic Regression         0.9942   0.9945   0.9947  0.0006\n",
      "\n",
      "🏆 Best Model: Random Forest\n",
      "Test Accuracy: 0.9953\n",
      "ROC AUC: 0.9994\n"
     ]
    }
   ],
   "source": [
    "# Create a comparison table\n",
    "comparison_df = pd.DataFrame({\n",
    "    'Model': list(model_results.keys()),\n",
    "    'Test Accuracy': [results['test_accuracy'] for results in model_results.values()],\n",
    "    'ROC AUC': [results['roc_auc'] for results in model_results.values()],\n",
    "    'CV Mean': [results['cv_mean'] for results in model_results.values()],\n",
    "    'CV Std': [results['cv_std'] for results in model_results.values()]\n",
    "})\n",
    "\n",
    "# Sort by test accuracy\n",
    "comparison_df = comparison_df.sort_values('Test Accuracy', ascending=False)\n",
    "\n",
    "print(\"Model Performance Comparison:\")\n",
    "print(\"=\"*60)\n",
    "print(comparison_df.round(4))\n",
    "\n",
    "# Identify the best model\n",
    "best_model_name = comparison_df.iloc[0]['Model']\n",
    "best_model = model_results[best_model_name]['model']\n",
    "\n",
    "print(f\"\\n🏆 Best Model: {best_model_name}\")\n",
    "print(f\"Test Accuracy: {comparison_df.iloc[0]['Test Accuracy']:.4f}\")\n",
    "print(f\"ROC AUC: {comparison_df.iloc[0]['ROC AUC']:.4f}\")"
   ]
  },
  {
   "cell_type": "code",
   "execution_count": 41,
   "metadata": {},
   "outputs": [
    {
     "name": "stdout",
     "output_type": "stream",
     "text": [
      "\n",
      "Detailed Classification Reports:\n",
      "================================================================================\n",
      "\n",
      "Logistic Regression Classification Report:\n",
      "----------------------------------------\n",
      "              precision    recall  f1-score   support\n",
      "\n",
      "           0       0.99      0.99      0.99     14106\n",
      "           1       0.99      0.99      0.99     14030\n",
      "\n",
      "    accuracy                           0.99     28136\n",
      "   macro avg       0.99      0.99      0.99     28136\n",
      "weighted avg       0.99      0.99      0.99     28136\n",
      "\n",
      "\n",
      "Logistic Regression Confusion Matrix:\n",
      "[[14016    90]\n",
      " [   74 13956]]\n",
      "\n",
      "Random Forest Classification Report:\n",
      "----------------------------------------\n",
      "              precision    recall  f1-score   support\n",
      "\n",
      "           0       1.00      0.99      1.00     14106\n",
      "           1       0.99      1.00      1.00     14030\n",
      "\n",
      "    accuracy                           1.00     28136\n",
      "   macro avg       1.00      1.00      1.00     28136\n",
      "weighted avg       1.00      1.00      1.00     28136\n",
      "\n",
      "\n",
      "Random Forest Confusion Matrix:\n",
      "[[14015    91]\n",
      " [   41 13989]]\n",
      "\n",
      "XGBoost Classification Report:\n",
      "----------------------------------------\n",
      "              precision    recall  f1-score   support\n",
      "\n",
      "           0       1.00      0.99      0.99     14106\n",
      "           1       0.99      1.00      0.99     14030\n",
      "\n",
      "    accuracy                           0.99     28136\n",
      "   macro avg       0.99      0.99      0.99     28136\n",
      "weighted avg       0.99      0.99      0.99     28136\n",
      "\n",
      "\n",
      "XGBoost Confusion Matrix:\n",
      "[[14012    94]\n",
      " [   55 13975]]\n"
     ]
    }
   ],
   "source": [
    "# Generate detailed classification reports for all models\n",
    "print(\"\\nDetailed Classification Reports:\")\n",
    "print(\"=\"*80)\n",
    "\n",
    "for name in model_results.keys():\n",
    "    print(f\"\\n{name} Classification Report:\")\n",
    "    print(\"-\" * 40)\n",
    "    y_pred = model_results[name]['y_pred_test']\n",
    "    report = classification_report(y_test1, y_pred)\n",
    "    print(report)\n",
    "    \n",
    "    # Confusion Matrix\n",
    "    cm = confusion_matrix(y_test1, y_pred)\n",
    "    print(f\"\\n{name} Confusion Matrix:\")\n",
    "    print(cm)"
   ]
  },
  {
   "cell_type": "code",
   "execution_count": 42,
   "metadata": {},
   "outputs": [
    {
     "name": "stdout",
     "output_type": "stream",
     "text": [
      "\n",
      "Feature Importance Analysis:\n",
      "==================================================\n",
      "\n",
      "Logistic Regression: Feature importance not available (not a tree-based model)\n",
      "\n",
      "Random Forest Feature Importance:\n",
      "------------------------------\n",
      "            Feature  Importance\n",
      "6        total_debt      0.2393\n",
      "1     interest_rate      0.2222\n",
      "2   borrower_income      0.2194\n",
      "3    debt_to_income      0.2194\n",
      "4   num_of_accounts      0.0597\n",
      "0         loan_size      0.0401\n",
      "5  derogatory_marks      0.0000\n"
     ]
    },
    {
     "data": {
      "image/png": "[encoded data removed]",
      "text/plain": [
       "<Figure size 1000x600 with 1 Axes>"
      ]
     },
     "metadata": {},
     "output_type": "display_data"
    },
    {
     "name": "stdout",
     "output_type": "stream",
     "text": [
      "\n",
      "XGBoost Feature Importance:\n",
      "------------------------------\n",
      "            Feature  Importance\n",
      "0         loan_size      0.9851\n",
      "2   borrower_income      0.0080\n",
      "1     interest_rate      0.0062\n",
      "4   num_of_accounts      0.0007\n",
      "3    debt_to_income      0.0000\n",
      "5  derogatory_marks      0.0000\n",
      "6        total_debt      0.0000\n"
     ]
    },
    {
     "data": {
      "image/png": "[encoded data removed]",
      "text/plain": [
       "<Figure size 1000x600 with 1 Axes>"
      ]
     },
     "metadata": {},
     "output_type": "display_data"
    }
   ],
   "source": [
    "# Feature Importance Analysis for Tree-based Models\n",
    "print(\"\\nFeature Importance Analysis:\")\n",
    "print(\"=\"*50)\n",
    "\n",
    "for name, results in model_results.items():\n",
    "    model = results['model']\n",
    "    \n",
    "    # Check if model has feature_importances_ attribute\n",
    "    if hasattr(model, 'feature_importances_'):\n",
    "        print(f\"\\n{name} Feature Importance:\")\n",
    "        print(\"-\" * 30)\n",
    "        \n",
    "        # Create feature importance dataframe\n",
    "        feature_importance_df = pd.DataFrame({\n",
    "            'Feature': X.columns,\n",
    "            'Importance': model.feature_importances_\n",
    "        }).sort_values('Importance', ascending=False)\n",
    "        \n",
    "        print(feature_importance_df.round(4))\n",
    "        \n",
    "        # Plot feature importance\n",
    "        plt.figure(figsize=(10, 6))\n",
    "        plt.barh(feature_importance_df['Feature'], feature_importance_df['Importance'])\n",
    "        plt.title(f'{name} - Feature Importance')\n",
    "        plt.xlabel('Importance')\n",
    "        plt.tight_layout()\n",
    "        plt.show()\n",
    "    else:\n",
    "        print(f\"\\n{name}: Feature importance not available (not a tree-based model)\")"
   ]
  },
  {
   "cell_type": "markdown",
   "metadata": {},
   "source": [
    "---\n",
    "\n",
    "## Ensemble Model: Combining All Three Models\n",
    "\n",
    "Now let's create an ensemble model that combines the predictions from all three models for potentially better performance."
   ]
  },
  {
   "cell_type": "code",
   "execution_count": 77,
   "metadata": {},
   "outputs": [
    {
     "name": "stdout",
     "output_type": "stream",
     "text": [
      "Creating Ensemble Models...\n",
      "==================================================\n",
      "Created 1 ensemble models:\n",
      "  - Soft Voting (LR+RF+XGB)\n"
     ]
    }
   ],
   "source": [
    "# Create ensemble models using sklearn's VotingClassifier\n",
    "from sklearn.ensemble import VotingClassifier\n",
    "\n",
    "print(\"Creating Ensemble Models...\")\n",
    "print(\"=\"*50)\n",
    "\n",
    "# Get the individual trained models\n",
    "lr_model = model_results['Logistic Regression']['model']\n",
    "rf_model = model_results['Random Forest']['model']\n",
    "\n",
    "# Create ensemble models\n",
    "ensemble_models = {}\n",
    "\n",
    "# Hard Voting Ensemble (majority vote)\n",
    "if xgb_available:\n",
    "    xgb_model = model_results['XGBoost']['model']\n",
    "    \n",
    "    # Soft Voting Ensemble (probability averaging)\n",
    "    soft_voting_ensemble = VotingClassifier(\n",
    "        estimators=[\n",
    "            ('lr', lr_model),\n",
    "            ('rf', rf_model),\n",
    "            ('xgb', xgb_model)\n",
    "        ],\n",
    "        voting='soft'\n",
    "    )\n",
    "    \n",
    "    ensemble_models['Soft Voting (LR+RF+XGB)'] = soft_voting_ensemble\n",
    "\n",
    "print(f\"Created {len(ensemble_models)} ensemble models:\")\n",
    "for name in ensemble_models.keys():\n",
    "    print(f\"  - {name}\")"
   ]
  },
  {
   "cell_type": "code",
   "execution_count": 78,
   "metadata": {},
   "outputs": [
    {
     "name": "stdout",
     "output_type": "stream",
     "text": [
      "\n",
      "Training and Evaluating Ensemble Models...\n",
      "============================================================\n",
      "\n",
      "==================================================\n",
      "Training Soft Voting (LR+RF+XGB)...\n",
      "==================================================\n",
      "Training Accuracy: 0.9953\n",
      "Test Accuracy: 0.9949\n",
      "ROC AUC Score: 0.9985\n",
      "CV Score: 0.9953 (+/- 0.0010)\n",
      "\n",
      "==================================================\n",
      "All ensemble models trained successfully!\n",
      "==================================================\n"
     ]
    }
   ],
   "source": [
    "# Train and evaluate ensemble models\n",
    "print(\"\\nTraining and Evaluating Ensemble Models...\")\n",
    "print(\"=\"*60)\n",
    "\n",
    "ensemble_results = {}\n",
    "\n",
    "for name, ensemble_model in ensemble_models.items():\n",
    "    print(f\"\\n{'='*50}\")\n",
    "    print(f\"Training {name}...\")\n",
    "    print(f\"{'='*50}\")\n",
    "    \n",
    "    # Train the ensemble model\n",
    "    ensemble_model.fit(X_resampled, y_resampled)\n",
    "    \n",
    "    # Make predictions\n",
    "    y_pred_train_ensemble = ensemble_model.predict(X_resampled)\n",
    "    y_pred_test_ensemble = ensemble_model.predict(X_test1)\n",
    "    \n",
    "    # Calculate metrics\n",
    "    train_accuracy_ensemble = accuracy_score(y_resampled, y_pred_train_ensemble)\n",
    "    test_accuracy_ensemble = accuracy_score(y_test1, y_pred_test_ensemble)\n",
    "    test_roc_auc_ensemble = roc_auc_score(y_test1, ensemble_model.predict_proba(X_test1)[:, 1])\n",
    "    \n",
    "    # Cross-validation score\n",
    "    cv_scores_ensemble = cross_val_score(ensemble_model, X_resampled, y_resampled, cv=5, scoring='accuracy')\n",
    "    \n",
    "    # Store results\n",
    "    ensemble_results[name] = {\n",
    "        'model': ensemble_model,\n",
    "        'train_accuracy': train_accuracy_ensemble,\n",
    "        'test_accuracy': test_accuracy_ensemble,\n",
    "        'roc_auc': test_roc_auc_ensemble,\n",
    "        'cv_mean': cv_scores_ensemble.mean(),\n",
    "        'cv_std': cv_scores_ensemble.std(),\n",
    "        'y_pred_test': y_pred_test_ensemble\n",
    "    }\n",
    "    \n",
    "    print(f\"Training Accuracy: {train_accuracy_ensemble:.4f}\")\n",
    "    print(f\"Test Accuracy: {test_accuracy_ensemble:.4f}\")\n",
    "    print(f\"ROC AUC Score: {test_roc_auc_ensemble:.4f}\")\n",
    "    print(f\"CV Score: {cv_scores_ensemble.mean():.4f} (+/- {cv_scores_ensemble.std() * 2:.4f})\")\n",
    "\n",
    "print(f\"\\n{'='*50}\")\n",
    "print(\"All ensemble models trained successfully!\")\n",
    "print(f\"{'='*50}\")"
   ]
  },
  {
   "cell_type": "code",
   "execution_count": 79,
   "metadata": {},
   "outputs": [
    {
     "name": "stdout",
     "output_type": "stream",
     "text": [
      "\n",
      "================================================================================\n",
      "FINAL MODEL COMPARISON (Individual + Ensemble Models)\n",
      "================================================================================\n",
      "                     Model  Test Accuracy  ROC AUC  CV Mean  CV Std\n",
      "1            Random Forest         0.9953   0.9994   0.9954  0.0004\n",
      "3  Soft Voting (LR+RF+XGB)         0.9949   0.9985   0.9953  0.0005\n",
      "2                  XGBoost         0.9947   0.9980   0.9950  0.0005\n",
      "0      Logistic Regression         0.9942   0.9945   0.9947  0.0006\n",
      "\n",
      "🏆 BEST OVERALL MODEL: Random Forest\n",
      "✅ Test Accuracy: 0.9953\n",
      "✅ ROC AUC: 0.9994\n",
      "✅ CV Score: 0.9954 (+/- 0.0009)\n",
      "\n",
      "📊 Best individual model performed as well as ensemble\n"
     ]
    }
   ],
   "source": [
    "# Combine all results (individual models + ensembles) for final comparison\n",
    "all_models_results = {**model_results, **ensemble_results}\n",
    "\n",
    "# Create comprehensive comparison table\n",
    "final_comparison_df = pd.DataFrame({\n",
    "    'Model': list(all_models_results.keys()),\n",
    "    'Test Accuracy': [results['test_accuracy'] for results in all_models_results.values()],\n",
    "    'ROC AUC': [results['roc_auc'] for results in all_models_results.values()],\n",
    "    'CV Mean': [results['cv_mean'] for results in all_models_results.values()],\n",
    "    'CV Std': [results['cv_std'] for results in all_models_results.values()]\n",
    "})\n",
    "\n",
    "# Sort by ROC AUC (better metric for classification)\n",
    "final_comparison_df = final_comparison_df.sort_values('ROC AUC', ascending=False)\n",
    "\n",
    "print(\"\\n\" + \"=\"*80)\n",
    "print(\"FINAL MODEL COMPARISON (Individual + Ensemble Models)\")\n",
    "print(\"=\"*80)\n",
    "print(final_comparison_df.round(4))\n",
    "\n",
    "# Identify the best overall model\n",
    "best_overall_model_name = final_comparison_df.iloc[0]['Model']\n",
    "best_overall_model = all_models_results[best_overall_model_name]['model']\n",
    "\n",
    "print(f\"\\n🏆 BEST OVERALL MODEL: {best_overall_model_name}\")\n",
    "print(f\"✅ Test Accuracy: {final_comparison_df.iloc[0]['Test Accuracy']:.4f}\")\n",
    "print(f\"✅ ROC AUC: {final_comparison_df.iloc[0]['ROC AUC']:.4f}\")\n",
    "print(f\"✅ CV Score: {final_comparison_df.iloc[0]['CV Mean']:.4f} (+/- {final_comparison_df.iloc[0]['CV Std'] * 2:.4f})\")\n",
    "\n",
    "# Show improvement over individual models\n",
    "individual_best_roc = final_comparison_df[~final_comparison_df['Model'].str.contains('Voting')]['ROC AUC'].max()\n",
    "ensemble_best_roc = final_comparison_df.iloc[0]['ROC AUC']\n",
    "\n",
    "if ensemble_best_roc > individual_best_roc:\n",
    "    improvement = ((ensemble_best_roc - individual_best_roc) / individual_best_roc) * 100\n",
    "    print(f\"\\n🎯 Ensemble improved performance by {improvement:.2f}% over best individual model!\")\n",
    "else:\n",
    "    print(f\"\\n📊 Best individual model performed as well as ensemble\")"
   ]
  },
  {
   "cell_type": "code",
   "execution_count": 80,
   "metadata": {},
   "outputs": [
    {
     "name": "stdout",
     "output_type": "stream",
     "text": [
      "\n",
      "Saving the best overall model: Random Forest\n",
      "==================================================\n",
      "✅ Best overall model (Random Forest) saved successfully!\n",
      "✅ Model information saved!\n",
      "✅ Test Accuracy: 0.9953\n",
      "✅ ROC AUC: 0.9994\n",
      "✅ All individual models also saved for comparison!\n",
      "✅ Ensemble models saved separately!\n"
     ]
    }
   ],
   "source": [
    "# Save the best overall model for deployment\n",
    "print(f\"\\nSaving the best overall model: {best_overall_model_name}\")\n",
    "print(\"=\"*50)\n",
    "\n",
    "# Save the best overall model\n",
    "joblib.dump(best_overall_model, 'best_credit_risk_model.pkl')\n",
    "\n",
    "# Save comprehensive model information\n",
    "model_info = {\n",
    "    'best_model_name': best_overall_model_name,\n",
    "    'test_accuracy': all_models_results[best_overall_model_name]['test_accuracy'],\n",
    "    'roc_auc': all_models_results[best_overall_model_name]['roc_auc'],\n",
    "    'feature_names': X.columns.tolist(),\n",
    "    'model_comparison': final_comparison_df.to_dict('records'),\n",
    "    'individual_models': comparison_df.to_dict('records'),\n",
    "    'ensemble_used': 'Voting' in best_overall_model_name\n",
    "}\n",
    "\n",
    "joblib.dump(model_info, 'model_info.pkl')\n",
    "\n",
    "print(f\"✅ Best overall model ({best_overall_model_name}) saved successfully!\")\n",
    "print(f\"✅ Model information saved!\")\n",
    "print(f\"✅ Test Accuracy: {all_models_results[best_overall_model_name]['test_accuracy']:.4f}\")\n",
    "print(f\"✅ ROC AUC: {all_models_results[best_overall_model_name]['roc_auc']:.4f}\")\n",
    "\n",
    "# Also save individual models for comparison in the app\n",
    "joblib.dump(final_model, 'logistic_regression_model.pkl')\n",
    "if 'Random Forest' in model_results:\n",
    "    joblib.dump(model_results['Random Forest']['model'], 'random_forest_model.pkl')\n",
    "if 'XGBoost' in model_results:\n",
    "    joblib.dump(model_results['XGBoost']['model'], 'xgboost_model.pkl')\n",
    "\n",
    "print(f\"✅ All individual models also saved for comparison!\")\n",
    "\n",
    "for ensemble_name, ensemble_data in ensemble_results.items():\n",
    "        safe_name = ensemble_name.replace(' ', '_').replace('(', '').replace(')', '').replace('+', '_')\n",
    "        joblib.dump(ensemble_results['Soft Voting (LR+RF+XGB)']['model'], f'ensemble_{safe_name.lower()}.pkl')\n",
    "print(f\"✅ Ensemble models saved separately!\")"
   ]
  }
 ],
 "metadata": {
  "kernelspec": {
   "display_name": "base",
   "language": "python",
   "name": "python3"
  },
  "language_info": {
   "codemirror_mode": {
    "name": "ipython",
    "version": 3
   },
   "file_extension": ".py",
   "mimetype": "text/x-python",
   "name": "python",
   "nbconvert_exporter": "python",
   "pygments_lexer": "ipython3",
   "version": "3.12.2"
  }
 },
 "nbformat": 4,
 "nbformat_minor": 4
}
